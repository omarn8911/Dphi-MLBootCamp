{
  "nbformat": 4,
  "nbformat_minor": 0,
  "metadata": {
    "colab": {
      "name": "DPhi BootCamp.ipynb",
      "provenance": [],
      "authorship_tag": "ABX9TyPyhjkBZAvVkBccZ1WBeIbL",
      "include_colab_link": true
    },
    "kernelspec": {
      "name": "python3",
      "display_name": "Python 3"
    }
  },
  "cells": [
    {
      "cell_type": "markdown",
      "metadata": {
        "id": "view-in-github",
        "colab_type": "text"
      },
      "source": [
        "<a href=\"https://colab.research.google.com/github/omarn8911/Dphi-MLBootCamp/blob/master/DPhi_BootCamp.ipynb\" target=\"_parent\"><img src=\"https://colab.research.google.com/assets/colab-badge.svg\" alt=\"Open In Colab\"/></a>"
      ]
    },
    {
      "cell_type": "code",
      "metadata": {
        "id": "OpnJjghtZ3ia",
        "colab_type": "code",
        "outputId": "c2e9367c-2fdd-4635-d214-0052231e344a",
        "colab": {
          "base_uri": "https://localhost:8080/",
          "height": 51
        }
      },
      "source": [
        "print (\"Hello World\")\n",
        "4+2"
      ],
      "execution_count": 0,
      "outputs": [
        {
          "output_type": "stream",
          "text": [
            "Hello World\n"
          ],
          "name": "stdout"
        },
        {
          "output_type": "execute_result",
          "data": {
            "text/plain": [
              "6"
            ]
          },
          "metadata": {
            "tags": []
          },
          "execution_count": 3
        }
      ]
    },
    {
      "cell_type": "code",
      "metadata": {
        "id": "q7pnrQ-oa9Oh",
        "colab_type": "code",
        "outputId": "2416fef2-22a1-457a-a98a-3dd0091628f9",
        "colab": {
          "base_uri": "https://localhost:8080/",
          "height": 34
        }
      },
      "source": [
        "3+7"
      ],
      "execution_count": 0,
      "outputs": [
        {
          "output_type": "execute_result",
          "data": {
            "text/plain": [
              "10"
            ]
          },
          "metadata": {
            "tags": []
          },
          "execution_count": 4
        }
      ]
    },
    {
      "cell_type": "code",
      "metadata": {
        "id": "cZSsKVCza-mZ",
        "colab_type": "code",
        "outputId": "f3ee516c-4754-47ab-f680-23b29d513238",
        "colab": {
          "base_uri": "https://localhost:8080/",
          "height": 34
        }
      },
      "source": [
        "7+4"
      ],
      "execution_count": 0,
      "outputs": [
        {
          "output_type": "execute_result",
          "data": {
            "text/plain": [
              "11"
            ]
          },
          "metadata": {
            "tags": []
          },
          "execution_count": 5
        }
      ]
    },
    {
      "cell_type": "code",
      "metadata": {
        "id": "N4dJkyeqa_ps",
        "colab_type": "code",
        "outputId": "42415f3d-761c-45d1-b1e3-fef30777e195",
        "colab": {
          "base_uri": "https://localhost:8080/",
          "height": 34
        }
      },
      "source": [
        "5-2"
      ],
      "execution_count": 0,
      "outputs": [
        {
          "output_type": "execute_result",
          "data": {
            "text/plain": [
              "3"
            ]
          },
          "metadata": {
            "tags": []
          },
          "execution_count": 6
        }
      ]
    },
    {
      "cell_type": "code",
      "metadata": {
        "id": "6xzCKp7tbAfV",
        "colab_type": "code",
        "outputId": "6b5e390f-9039-4739-feae-4462873f99dc",
        "colab": {
          "base_uri": "https://localhost:8080/",
          "height": 34
        }
      },
      "source": [
        "4-7"
      ],
      "execution_count": 0,
      "outputs": [
        {
          "output_type": "execute_result",
          "data": {
            "text/plain": [
              "-3"
            ]
          },
          "metadata": {
            "tags": []
          },
          "execution_count": 7
        }
      ]
    },
    {
      "cell_type": "code",
      "metadata": {
        "id": "lm_JEc86bBhp",
        "colab_type": "code",
        "outputId": "6094bd1a-d618-4785-ef0f-af614068a868",
        "colab": {
          "base_uri": "https://localhost:8080/",
          "height": 68
        }
      },
      "source": [
        "a = \"Hello, World!\"\n",
        "print (a[1])\n",
        "print (a[-5: -2])\n",
        "print (2)"
      ],
      "execution_count": 0,
      "outputs": [
        {
          "output_type": "stream",
          "text": [
            "e\n",
            "orl\n",
            "2\n"
          ],
          "name": "stdout"
        }
      ]
    },
    {
      "cell_type": "code",
      "metadata": {
        "id": "ajozM3ILjZqE",
        "colab_type": "code",
        "colab": {
          "base_uri": "https://localhost:8080/",
          "height": 34
        },
        "outputId": "85ed11fc-c7ca-4578-d696-30cc1173057a"
      },
      "source": [
        "x = input (\"What's your name?\")"
      ],
      "execution_count": 7,
      "outputs": [
        {
          "output_type": "stream",
          "text": [
            "What's your name?5\n"
          ],
          "name": "stdout"
        }
      ]
    },
    {
      "cell_type": "code",
      "metadata": {
        "id": "mwfyVumtj9kw",
        "colab_type": "code",
        "colab": {
          "base_uri": "https://localhost:8080/",
          "height": 34
        },
        "outputId": "152b6902-db87-496c-8bf4-59d9c4295690"
      },
      "source": [
        "x\n"
      ],
      "execution_count": 8,
      "outputs": [
        {
          "output_type": "execute_result",
          "data": {
            "text/plain": [
              "'5'"
            ]
          },
          "metadata": {
            "tags": []
          },
          "execution_count": 8
        }
      ]
    },
    {
      "cell_type": "code",
      "metadata": {
        "id": "fM9hxqywj-lf",
        "colab_type": "code",
        "colab": {
          "base_uri": "https://localhost:8080/",
          "height": 34
        },
        "outputId": "be2e5ba6-18dc-4ebb-d6df-f9f93376738b"
      },
      "source": [
        "x = input(\"Enter a number\")"
      ],
      "execution_count": 12,
      "outputs": [
        {
          "output_type": "stream",
          "text": [
            "Enter a number5\n"
          ],
          "name": "stdout"
        }
      ]
    },
    {
      "cell_type": "code",
      "metadata": {
        "id": "0_3lAjXumE3L",
        "colab_type": "code",
        "colab": {
          "base_uri": "https://localhost:8080/",
          "height": 34
        },
        "outputId": "513280f3-1a5e-4d2e-91fd-5464b295e3ea"
      },
      "source": [
        "x"
      ],
      "execution_count": 13,
      "outputs": [
        {
          "output_type": "execute_result",
          "data": {
            "text/plain": [
              "'5'"
            ]
          },
          "metadata": {
            "tags": []
          },
          "execution_count": 13
        }
      ]
    },
    {
      "cell_type": "code",
      "metadata": {
        "id": "UgU5PFQOmOFi",
        "colab_type": "code",
        "colab": {
          "base_uri": "https://localhost:8080/",
          "height": 34
        },
        "outputId": "0cb5a49f-5c22-45a1-da70-44fe82e196a9"
      },
      "source": [
        "x= int(x)\n",
        "print (x**2)"
      ],
      "execution_count": 19,
      "outputs": [
        {
          "output_type": "stream",
          "text": [
            "25\n"
          ],
          "name": "stdout"
        }
      ]
    },
    {
      "cell_type": "code",
      "metadata": {
        "id": "cLZGBtUdmRbH",
        "colab_type": "code",
        "colab": {}
      },
      "source": [
        "cadena = \"Program\"\n",
        "print (cadena[-4 : 7])\n",
        "print (type(cadena))"
      ],
      "execution_count": 0,
      "outputs": []
    },
    {
      "cell_type": "code",
      "metadata": {
        "id": "rqiGtu_2nkWw",
        "colab_type": "code",
        "colab": {
          "base_uri": "https://localhost:8080/",
          "height": 51
        },
        "outputId": "0f9c1fb2-b897-4b4d-96a7-bb45f4be7782"
      },
      "source": [
        "firstname = \"Omar\"\n",
        "lastname = \"Narváez\"\n",
        "print (\"Hello, \"+ str(firstname)+ \" \"+ str(lastname)+ \" you just delved into Pyhton\")\n",
        "firstname = firstname.upper()\n",
        "print (firstname)"
      ],
      "execution_count": 12,
      "outputs": [
        {
          "output_type": "stream",
          "text": [
            "Hello, Omar Narváez you just delved into Pyhton\n",
            "OMAR\n"
          ],
          "name": "stdout"
        }
      ]
    },
    {
      "cell_type": "code",
      "metadata": {
        "id": "3hCQKf3Dej-V",
        "colab_type": "code",
        "colab": {
          "base_uri": "https://localhost:8080/",
          "height": 34
        },
        "outputId": "ac4979c3-3086-4f52-c440-2ca136b3eba6"
      },
      "source": [
        "x = 2*2**3\n",
        "print (type(x))"
      ],
      "execution_count": 5,
      "outputs": [
        {
          "output_type": "stream",
          "text": [
            "<class 'int'>\n"
          ],
          "name": "stdout"
        }
      ]
    },
    {
      "cell_type": "code",
      "metadata": {
        "id": "gkFT-qEXfRve",
        "colab_type": "code",
        "colab": {
          "base_uri": "https://localhost:8080/",
          "height": 51
        },
        "outputId": "132f99ab-66b8-4357-c9ff-81dc5b570e2f"
      },
      "source": [
        "#list1 = [10, 20, [300, 400, [5000, 6000], 500], 30, 40]\n",
        "#list1[2][2].append(7000)  \n",
        "#print(list1)\n",
        "\n",
        "list1 = [5, 10, 15, 20, 25, 50, 20]\n",
        "i = 1\n",
        "while i < len(list):\n",
        "    if list1[i] == 20:\n",
        "        list1[i] = 200\n",
        "        i = len(list)\n",
        "    else:\n",
        "      i = i+1\n",
        "print(list1)\n",
        "list2 = [1, 2, 3]\n",
        "list1.extend(list2)\n",
        "print (list1)\n",
        "  \n",
        "\n"
      ],
      "execution_count": 59,
      "outputs": [
        {
          "output_type": "stream",
          "text": [
            "[5, 10, 15, 200, 25, 50, 20]\n",
            "[5, 10, 15, 200, 25, 50, 20, 1, 2, 3]\n"
          ],
          "name": "stdout"
        }
      ]
    },
    {
      "cell_type": "code",
      "metadata": {
        "id": "nuMfHdlGcdKq",
        "colab_type": "code",
        "colab": {
          "base_uri": "https://localhost:8080/",
          "height": 248
        },
        "outputId": "21d21f7a-7eb5-45c9-9997-731265036dda"
      },
      "source": [
        "colors = (\"yellow\", \"blue\", \"red\", \"green\", \"white\")\n",
        "print (colors)\n",
        "\n",
        "aTuple = (20, 10, 30, 40)\n",
        "a, b, c, d = aTuple\n",
        "print (aTuple)\n",
        "print (a)\n",
        "print (d)"
      ],
      "execution_count": 71,
      "outputs": [
        {
          "output_type": "stream",
          "text": [
            "('yellow', 'blue', 'red', 'green', 'white')\n"
          ],
          "name": "stdout"
        },
        {
          "output_type": "error",
          "ename": "AttributeError",
          "evalue": "ignored",
          "traceback": [
            "\u001b[0;31m---------------------------------------------------------------------------\u001b[0m",
            "\u001b[0;31mAttributeError\u001b[0m                            Traceback (most recent call last)",
            "\u001b[0;32m<ipython-input-71-d0b350609fb7>\u001b[0m in \u001b[0;36m<module>\u001b[0;34m()\u001b[0m\n\u001b[1;32m      4\u001b[0m \u001b[0maTuple\u001b[0m \u001b[0;34m=\u001b[0m \u001b[0;34m(\u001b[0m\u001b[0;36m20\u001b[0m\u001b[0;34m,\u001b[0m \u001b[0;36m10\u001b[0m\u001b[0;34m,\u001b[0m \u001b[0;36m30\u001b[0m\u001b[0;34m,\u001b[0m \u001b[0;36m40\u001b[0m\u001b[0;34m)\u001b[0m\u001b[0;34m\u001b[0m\u001b[0;34m\u001b[0m\u001b[0m\n\u001b[1;32m      5\u001b[0m \u001b[0ma\u001b[0m\u001b[0;34m,\u001b[0m \u001b[0mb\u001b[0m\u001b[0;34m,\u001b[0m \u001b[0mc\u001b[0m\u001b[0;34m,\u001b[0m \u001b[0md\u001b[0m \u001b[0;34m=\u001b[0m \u001b[0maTuple\u001b[0m\u001b[0;34m\u001b[0m\u001b[0;34m\u001b[0m\u001b[0m\n\u001b[0;32m----> 6\u001b[0;31m \u001b[0maTuple\u001b[0m\u001b[0;34m.\u001b[0m\u001b[0msort\u001b[0m\u001b[0;34m(\u001b[0m\u001b[0;34m)\u001b[0m\u001b[0;34m\u001b[0m\u001b[0;34m\u001b[0m\u001b[0m\n\u001b[0m\u001b[1;32m      7\u001b[0m \u001b[0mprint\u001b[0m \u001b[0;34m(\u001b[0m\u001b[0maTuple\u001b[0m\u001b[0;34m)\u001b[0m\u001b[0;34m\u001b[0m\u001b[0;34m\u001b[0m\u001b[0m\n\u001b[1;32m      8\u001b[0m \u001b[0mprint\u001b[0m \u001b[0;34m(\u001b[0m\u001b[0ma\u001b[0m\u001b[0;34m)\u001b[0m\u001b[0;34m\u001b[0m\u001b[0;34m\u001b[0m\u001b[0m\n",
            "\u001b[0;31mAttributeError\u001b[0m: 'tuple' object has no attribute 'sort'"
          ]
        }
      ]
    },
    {
      "cell_type": "code",
      "metadata": {
        "id": "K1izBpppj4DE",
        "colab_type": "code",
        "colab": {
          "base_uri": "https://localhost:8080/",
          "height": 34
        },
        "outputId": "102e190e-bd3a-4cb7-b42c-a04b985ab330"
      },
      "source": [
        "for i in range (5):\n",
        "  print (i, end=', ')"
      ],
      "execution_count": 8,
      "outputs": [
        {
          "output_type": "stream",
          "text": [
            "0, 1, 2, 3, 4, "
          ],
          "name": "stdout"
        }
      ]
    },
    {
      "cell_type": "code",
      "metadata": {
        "id": "eBwUaiCoQQLs",
        "colab_type": "code",
        "colab": {
          "base_uri": "https://localhost:8080/",
          "height": 68
        },
        "outputId": "ff647e82-64f4-46dc-a7eb-5cec656e4a33"
      },
      "source": [
        "dog_breeds = [\"boxer\", \"bulldog\", \"shiba inu\"]\n",
        "\n",
        "# Print each breed:\n",
        "for breed in dog_breeds:\n",
        "  print(breed)"
      ],
      "execution_count": 9,
      "outputs": [
        {
          "output_type": "stream",
          "text": [
            "boxer\n",
            "bulldog\n",
            "shiba inu\n"
          ],
          "name": "stdout"
        }
      ]
    },
    {
      "cell_type": "code",
      "metadata": {
        "id": "V41QmN1ylfmU",
        "colab_type": "code",
        "colab": {}
      },
      "source": [
        "lst = [3,4,6,1,2, -4, -5, -7]\n",
        "lst[1:2] = [7,8]\n",
        "print(lst)\n",
        "suma= 0\n",
        "for i in lst:\n",
        "  if lst[i] <= 0:\n",
        "    suma = suma + lst[i]\n",
        "print(\"La suma total es: \" + str(suma))\n",
        "\n"
      ],
      "execution_count": 0,
      "outputs": []
    },
    {
      "cell_type": "code",
      "metadata": {
        "id": "JgtN03-ERFQB",
        "colab_type": "code",
        "colab": {}
      },
      "source": [
        "x = input(\"Ingrese un número\")\n",
        "x = int(x)\n",
        "for i in range(1,11):\n",
        "  #result = x*i\n",
        "  print(str(x) + \" X \" + str(i)+ \" = \" + str(i*x))"
      ],
      "execution_count": 0,
      "outputs": []
    },
    {
      "cell_type": "code",
      "metadata": {
        "id": "W3X1AI07UE0T",
        "colab_type": "code",
        "colab": {}
      },
      "source": [
        "list7= ['bread', 'milk', 'butter']\n",
        "for index, i in enumerate(list7):\n",
        "  print(\"Index \"+ str(index) + \" : \" + i)"
      ],
      "execution_count": 0,
      "outputs": []
    },
    {
      "cell_type": "code",
      "metadata": {
        "id": "z2932vGLU143",
        "colab_type": "code",
        "colab": {}
      },
      "source": [
        "#program that receives input as n, and print sum of all numbers between 1 and n\n",
        "n = input(\"Inserte un número: \")\n",
        "n = int(n)\n",
        "suma = 0\n",
        "for i in range(1, n+1):\n",
        "  suma = suma + i\n",
        "print(\"La suma total es: \"+ str(suma))"
      ],
      "execution_count": 0,
      "outputs": []
    },
    {
      "cell_type": "code",
      "metadata": {
        "id": "QOtkdf1RXuK2",
        "colab_type": "code",
        "colab": {}
      },
      "source": [
        "#sequence of numbers from 3 to 19, stepping by 2\n",
        "for i in range(3, 20, 2):\n",
        "  print(i)\n",
        "i=0\n",
        "for i in \"python\":\n",
        "  print(i, end=\"\")\n",
        "print(\"\\n\")\n",
        "i= 0\n",
        "cadena = \"python\"\n",
        "li = list(cadena) \n",
        "for i in range(len(cadena)):\n",
        "  print(li[i], end=\" \")\n",
        "#for i in range(len(cadena)):\n"
      ],
      "execution_count": 0,
      "outputs": []
    },
    {
      "cell_type": "code",
      "metadata": {
        "id": "yduA5ZPYc0Cy",
        "colab_type": "code",
        "colab": {
          "base_uri": "https://localhost:8080/",
          "height": 34
        },
        "outputId": "25cbe4f1-ac10-4608-a852-5bfa48e86a5d"
      },
      "source": [
        "X = ['ab', 'cd']\n",
        "for i in X:\n",
        "  i.upper()\n",
        "print (X)\n"
      ],
      "execution_count": 58,
      "outputs": [
        {
          "output_type": "stream",
          "text": [
            "['ab', 'cd']\n"
          ],
          "name": "stdout"
        }
      ]
    },
    {
      "cell_type": "code",
      "metadata": {
        "id": "AeRWdjF2iJNf",
        "colab_type": "code",
        "colab": {
          "base_uri": "https://localhost:8080/",
          "height": 34
        },
        "outputId": "82926a74-144c-452a-8025-15ccc819dec9"
      },
      "source": [
        "#Convert two list into a dictionary\n",
        "\n",
        "def listToDict(lstA, lstB):\n",
        "    zippedLst = zip(lstA, lstB)\n",
        "    op = dict(zippedLst)\n",
        "    return op\n",
        "\n",
        "\n",
        "lstStr = ['Ten', 'Twenty', 'Thirdy']\n",
        "lstInt = [10, 20, 30]\n",
        "print(listToDict(lstStr, lstInt))"
      ],
      "execution_count": 1,
      "outputs": [
        {
          "output_type": "stream",
          "text": [
            "{'Ten': 10, 'Twenty': 20, 'Thirdy': 30}\n"
          ],
          "name": "stdout"
        }
      ]
    },
    {
      "cell_type": "code",
      "metadata": {
        "id": "Zrlr2VvulYwc",
        "colab_type": "code",
        "colab": {}
      },
      "source": [
        "Dict = {\n",
        "    \"class\":{\n",
        "        \"student\":{\n",
        "            \"name\":\"Mike\", \"Marks\":\n",
        "            {\n",
        "                \"physics\": 70,\n",
        "                \"history\": 80\n",
        "            }\n",
        "        }\n",
        "    }\n",
        "}\n",
        "print(Dict[\"class\"][\"student\"][\"Marks\"][\"history\"])"
      ],
      "execution_count": 0,
      "outputs": []
    },
    {
      "cell_type": "code",
      "metadata": {
        "id": "gW79G5fqJkCj",
        "colab_type": "code",
        "colab": {}
      },
      "source": [
        "inventory = {\n",
        "    'gold': 500,\n",
        "    'pouch': ['flint', 'twine', 'gemstone'],\n",
        "    'backpack': ['xylophone', 'dagger', 'bedroll', 'bread loaf']\n",
        "}\n",
        "\n",
        "inventory.update({'pocket': ['seashell', 'strange berry', 'lint']})\n",
        "\n",
        "print (inventory)"
      ],
      "execution_count": 0,
      "outputs": []
    },
    {
      "cell_type": "code",
      "metadata": {
        "id": "wmGu8wyu1BSI",
        "colab_type": "code",
        "colab": {
          "base_uri": "https://localhost:8080/",
          "height": 34
        },
        "outputId": "09e2a163-d3d3-4419-aa70-cbde40ba76e9"
      },
      "source": [
        "import numpy as np\n",
        "list1 = [1,2,3,4]\n",
        "list2 = [5,6,7,8]\n",
        "x = np.arange(20)\n",
        "y = np.arange(20)\n",
        "array = x + y \n",
        "print(array)"
      ],
      "execution_count": 5,
      "outputs": [
        {
          "output_type": "stream",
          "text": [
            "[ 0  2  4  6  8 10 12 14 16 18 20 22 24 26 28 30 32 34 36 38]\n"
          ],
          "name": "stdout"
        }
      ]
    }
  ]
}